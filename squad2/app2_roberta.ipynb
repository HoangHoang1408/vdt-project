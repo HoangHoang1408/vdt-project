{
 "cells": [
  {
   "cell_type": "code",
   "execution_count": 1,
   "id": "07741fa3-1489-4b11-b866-51dd955f64dc",
   "metadata": {},
   "outputs": [],
   "source": [
    "import torch\n",
    "from torch import nn\n",
    "from torch.nn import functional as F\n",
    "device = 'cuda' if torch.cuda.is_available() else 'mps' if torch.backends.mps.is_available() else 'cpu'\n",
    "from torch.utils.data import DataLoader\n",
    "from tqdm.notebook import tqdm\n",
    "\n",
    "import numpy as np\n",
    "import pandas as pd\n",
    "import matplotlib.pyplot as plt\n",
    "from matplotlib import rcParams\n",
    "import seaborn as sns\n",
    "import warnings\n",
    "\n",
    "sns.set()\n",
    "rcParams['figure.figsize'] = (20,10)\n",
    "pd.options.display.max_columns = None\n",
    "warnings.filterwarnings('ignore')\n",
    "from pprint import pprint\n",
    "\n",
    "from transformers import AutoTokenizer, AutoModel, AutoConfig, pipeline\n",
    "from transformers import AutoTokenizer, AutoModelForQuestionAnswering, TrainingArguments, Trainer\n",
    "from datasets import load_dataset, Dataset, DatasetDict, concatenate_datasets\n",
    "import json\n",
    "\n",
    "from sentence_transformers import CrossEncoder, InputExample, losses\n",
    "from sentence_transformers.cross_encoder.evaluation import CESoftmaxAccuracyEvaluator"
   ]
  },
  {
   "cell_type": "code",
   "execution_count": 2,
   "id": "3cb8c5bd-e431-4a54-897e-f3c352c2720e",
   "metadata": {},
   "outputs": [
    {
     "name": "stderr",
     "output_type": "stream",
     "text": [
      "[nltk_data] Downloading package punkt to /home/jupyter/nltk_data...\n",
      "[nltk_data]   Package punkt is already up-to-date!\n"
     ]
    }
   ],
   "source": [
    "import nltk\n",
    "nltk.download('punkt')\n",
    "from nltk.tokenize import sent_tokenize"
   ]
  },
  {
   "cell_type": "code",
   "execution_count": 3,
   "id": "14f23bd2-062a-47c7-aaf4-4320f237da01",
   "metadata": {},
   "outputs": [
    {
     "name": "stderr",
     "output_type": "stream",
     "text": [
      "Found cached dataset squad_v2 (/home/jupyter/.cache/huggingface/datasets/squad_v2/squad_v2/2.0.0/09187c73c1b837c95d9a249cd97c2c3f1cebada06efe667b4427714b27639b1d)\n"
     ]
    },
    {
     "data": {
      "application/vnd.jupyter.widget-view+json": {
       "model_id": "b90bdbaf39f8415a947d869a53352898",
       "version_major": 2,
       "version_minor": 0
      },
      "text/plain": [
       "  0%|          | 0/2 [00:00<?, ?it/s]"
      ]
     },
     "metadata": {},
     "output_type": "display_data"
    }
   ],
   "source": [
    "ds = load_dataset('squad_v2')"
   ]
  },
  {
   "cell_type": "code",
   "execution_count": 6,
   "id": "990af668-f86c-44cb-ada3-ef426574162f",
   "metadata": {},
   "outputs": [
    {
     "name": "stderr",
     "output_type": "stream",
     "text": [
      "Loading cached split indices for dataset at /home/jupyter/.cache/huggingface/datasets/squad_v2/squad_v2/2.0.0/09187c73c1b837c95d9a249cd97c2c3f1cebada06efe667b4427714b27639b1d/cache-8392fe7aa8289e19.arrow and /home/jupyter/.cache/huggingface/datasets/squad_v2/squad_v2/2.0.0/09187c73c1b837c95d9a249cd97c2c3f1cebada06efe667b4427714b27639b1d/cache-10963ca112a1f503.arrow\n"
     ]
    }
   ],
   "source": [
    "ds_ = ds['train'].train_test_split(test_size=0.1, seed=42)\n",
    "train_origin = ds_['train']\n",
    "val_origin = ds_['test']\n",
    "test_origin = ds['validation']"
   ]
  },
  {
   "cell_type": "code",
   "execution_count": 7,
   "id": "ad9124f5-6d27-4706-98a5-ec49ae66ceb3",
   "metadata": {},
   "outputs": [
    {
     "data": {
      "application/vnd.jupyter.widget-view+json": {
       "model_id": "a38528dfbf5b4608a1f809ecc4c8a8e4",
       "version_major": 2,
       "version_minor": 0
      },
      "text/plain": [
       "Downloading (…)lve/main/config.json:   0%|          | 0.00/481 [00:00<?, ?B/s]"
      ]
     },
     "metadata": {},
     "output_type": "display_data"
    },
    {
     "data": {
      "application/vnd.jupyter.widget-view+json": {
       "model_id": "07b03c849d8142858382165f6030aa86",
       "version_major": 2,
       "version_minor": 0
      },
      "text/plain": [
       "Downloading (…)olve/main/vocab.json:   0%|          | 0.00/899k [00:00<?, ?B/s]"
      ]
     },
     "metadata": {},
     "output_type": "display_data"
    },
    {
     "data": {
      "application/vnd.jupyter.widget-view+json": {
       "model_id": "d8e960edacff4a2880f8efab4ef755cc",
       "version_major": 2,
       "version_minor": 0
      },
      "text/plain": [
       "Downloading (…)olve/main/merges.txt:   0%|          | 0.00/456k [00:00<?, ?B/s]"
      ]
     },
     "metadata": {},
     "output_type": "display_data"
    },
    {
     "data": {
      "application/vnd.jupyter.widget-view+json": {
       "model_id": "b837571679a04ba181478fc7ef599925",
       "version_major": 2,
       "version_minor": 0
      },
      "text/plain": [
       "Downloading (…)/main/tokenizer.json:   0%|          | 0.00/1.36M [00:00<?, ?B/s]"
      ]
     },
     "metadata": {},
     "output_type": "display_data"
    }
   ],
   "source": [
    "tokenizer = AutoTokenizer.from_pretrained(\"roberta-base\")"
   ]
  },
  {
   "cell_type": "code",
   "execution_count": 8,
   "id": "de010a65-54bf-4792-bed7-b4b89fe970c9",
   "metadata": {},
   "outputs": [],
   "source": [
    "# mapper functions:\n",
    "# 1. split context into sentences\n",
    "# 2. concat k consecutive sentences to form a chunk for cross-encoder, example: [sent1, sent2, sent3, sent4] -> [[sent1, sent2], [sent2, sent3], [sent3, sent4]]\n",
    "# mark the label of each chunk as 1 if any sentence in the chunk contains the answer, otherwise 0\n",
    "\n",
    "# empty_chunk_list, answer_answer_list = [], []\n",
    "def mapper(examples, k_sentences_for_one_chunk, stride):\n",
    "    batch_sentences, batch_questions, batch_chunk_labels, batch_chunks, batch_num_chunk_tokens, batch_num_context_tokens = [], [], [], [], [], []\n",
    "    for i in range(len(examples['context'])):\n",
    "        sentences = sent_tokenize(examples['context'][i])\n",
    "        chunks_list = []\n",
    "        if len(sentences) < k_sentences_for_one_chunk:\n",
    "            chunks_list.append(sentences)\n",
    "        else:\n",
    "            for j in range(0, len(sentences) - k_sentences_for_one_chunk + 2, stride):\n",
    "                chunks_list.append(sentences[j:j+k_sentences_for_one_chunk])\n",
    "        chunks = [' '.join(chunk) for chunk in chunks_list]\n",
    "        answer_list = examples['answers'][i]['text']\n",
    "        if len(answer_list) == 0:\n",
    "            chunk_labels = [0 for chunk in chunks]\n",
    "        else:\n",
    "            answer = answer_list[0]\n",
    "            chunk_labels = [1 if answer in chunk else 0 for chunk in chunks]\n",
    "        \n",
    "\n",
    "        batch_sentences.append(sentences)\n",
    "        batch_questions.append(examples['question'][i])\n",
    "        batch_chunk_labels.append(chunk_labels)\n",
    "        batch_chunks.append(chunks)\n",
    "        batch_num_chunk_tokens.append([len(input_ids) for input_ids in tokenizer(chunks)['input_ids']])\n",
    "        batch_num_context_tokens.append(len(tokenizer(examples['context'][i])['input_ids']))\n",
    "\n",
    "    return {\n",
    "        'chunk_labels': batch_chunk_labels,\n",
    "        'chunks': batch_chunks,\n",
    "        'question': batch_questions,\n",
    "        'sentence': batch_sentences,\n",
    "        'num_chunks': [len(chunks) for chunks in batch_chunks],\n",
    "        'num_sentences': [len(sentences) for sentences in batch_sentences],\n",
    "        'num_chunk_tokens': batch_num_chunk_tokens,\n",
    "        'num_context_tokens': batch_num_context_tokens\n",
    "    }"
   ]
  },
  {
   "cell_type": "code",
   "execution_count": 9,
   "id": "8709db67-6324-41dd-968f-279b04b538be",
   "metadata": {},
   "outputs": [
    {
     "data": {
      "application/vnd.jupyter.widget-view+json": {
       "model_id": "",
       "version_major": 2,
       "version_minor": 0
      },
      "text/plain": [
       "Map:   0%|          | 0/117287 [00:00<?, ? examples/s]"
      ]
     },
     "metadata": {},
     "output_type": "display_data"
    },
    {
     "name": "stderr",
     "output_type": "stream",
     "text": [
      "Token indices sequence length is longer than the specified maximum sequence length for this model (599 > 512). Running this sequence through the model will result in indexing errors\n"
     ]
    },
    {
     "data": {
      "application/vnd.jupyter.widget-view+json": {
       "model_id": "",
       "version_major": 2,
       "version_minor": 0
      },
      "text/plain": [
       "Map:   0%|          | 0/13032 [00:00<?, ? examples/s]"
      ]
     },
     "metadata": {},
     "output_type": "display_data"
    },
    {
     "data": {
      "application/vnd.jupyter.widget-view+json": {
       "model_id": "",
       "version_major": 2,
       "version_minor": 0
      },
      "text/plain": [
       "Map:   0%|          | 0/11873 [00:00<?, ? examples/s]"
      ]
     },
     "metadata": {},
     "output_type": "display_data"
    }
   ],
   "source": [
    "train_dataset_for_ce = train_origin.map(mapper, batched=True, fn_kwargs={'k_sentences_for_one_chunk': 3, 'stride':2})\n",
    "val_dataset_for_ce = val_origin.map(mapper, batched=True, fn_kwargs={'k_sentences_for_one_chunk': 3, 'stride': 2})\n",
    "test_dataset_for_ce = test_origin.map(mapper, batched=True, fn_kwargs={'k_sentences_for_one_chunk': 3, 'stride': 2})"
   ]
  },
  {
   "cell_type": "code",
   "execution_count": 10,
   "id": "20a59d28-6f34-4c85-a792-38efdd13faa1",
   "metadata": {},
   "outputs": [
    {
     "data": {
      "text/plain": [
       "Text(0.5, 1.0, 'Number of sentences in each context')"
      ]
     },
     "execution_count": 10,
     "metadata": {},
     "output_type": "execute_result"
    },
    {
     "data": {
      "image/png": "[encoded data removed]",
      "text/plain": [
       "<Figure size 2000x1000 with 1 Axes>"
      ]
     },
     "metadata": {},
     "output_type": "display_data"
    }
   ],
   "source": [
    "df = train_dataset_for_ce.to_pandas()\n",
    "plt.figure(figsize=(20,10))\n",
    "df['num_sentences'].hist(bins=100)\n",
    "plt.title('Number of sentences in each context')"
   ]
  },
  {
   "cell_type": "code",
   "execution_count": 11,
   "id": "ff4a3000-7035-49e2-b540-ce3a0f5df865",
   "metadata": {},
   "outputs": [
    {
     "data": {
      "text/plain": [
       "Text(0.5, 1.0, 'Number of chunks per example')"
      ]
     },
     "execution_count": 11,
     "metadata": {},
     "output_type": "execute_result"
    },
    {
     "data": {
      "image/png": "[encoded data removed]",
      "text/plain": [
       "<Figure size 2000x1000 with 1 Axes>"
      ]
     },
     "metadata": {},
     "output_type": "display_data"
    }
   ],
   "source": [
    "plt.figure(figsize=(20,10))\n",
    "df['num_chunks'].plot.hist(bins=50)\n",
    "plt.title('Number of chunks per example')"
   ]
  },
  {
   "cell_type": "code",
   "execution_count": 12,
   "id": "822b1b35-ee85-405d-a0e7-1f809434a21f",
   "metadata": {},
   "outputs": [
    {
     "data": {
      "text/plain": [
       "Text(0.5, 1.0, 'Number of tokens per chunk')"
      ]
     },
     "execution_count": 12,
     "metadata": {},
     "output_type": "execute_result"
    },
    {
     "data": {
      "image/png": "[encoded data removed]",
      "text/plain": [
       "<Figure size 2000x1000 with 1 Axes>"
      ]
     },
     "metadata": {},
     "output_type": "display_data"
    }
   ],
   "source": [
    "plt.figure(figsize=(20,10))\n",
    "df['num_chunk_tokens'].explode().plot.hist(bins=50)\n",
    "plt.title('Number of tokens per chunk')"
   ]
  },
  {
   "cell_type": "code",
   "execution_count": 13,
   "id": "a476a074-24de-43b1-9d75-13b9a9e5a5b4",
   "metadata": {},
   "outputs": [
    {
     "data": {
      "text/plain": [
       "count    271153.000000\n",
       "mean         86.426921\n",
       "std          30.883583\n",
       "min           7.000000\n",
       "25%          65.000000\n",
       "50%          83.000000\n",
       "75%         104.000000\n",
       "max         676.000000\n",
       "Name: num_chunk_tokens, dtype: float64"
      ]
     },
     "execution_count": 13,
     "metadata": {},
     "output_type": "execute_result"
    }
   ],
   "source": [
    "df['num_chunk_tokens'].explode().astype(float).describe()"
   ]
  },
  {
   "cell_type": "code",
   "execution_count": 14,
   "id": "97819bfc-a8b6-42ad-8aac-320a12c84729",
   "metadata": {},
   "outputs": [
    {
     "data": {
      "application/vnd.jupyter.widget-view+json": {
       "model_id": "96e709fd7aee483ea28956340000a2e8",
       "version_major": 2,
       "version_minor": 0
      },
      "text/plain": [
       "  0%|          | 0/117287 [00:00<?, ?it/s]"
      ]
     },
     "metadata": {},
     "output_type": "display_data"
    },
    {
     "data": {
      "application/vnd.jupyter.widget-view+json": {
       "model_id": "3bad05f10ea1491cab6d16f21b1aa13c",
       "version_major": 2,
       "version_minor": 0
      },
      "text/plain": [
       "  0%|          | 0/13032 [00:00<?, ?it/s]"
      ]
     },
     "metadata": {},
     "output_type": "display_data"
    }
   ],
   "source": [
    "train_examples = []\n",
    "for i in tqdm(range(len(train_dataset_for_ce))):\n",
    "    for j in range(len(train_dataset_for_ce[i]['chunks'])):\n",
    "        train_examples.append(InputExample(texts=[train_dataset_for_ce[i]['question'], train_dataset_for_ce[i]['chunks'][j]], label=train_dataset_for_ce[i]['chunk_labels'][j]))\n",
    "\n",
    "val_examples = []\n",
    "for i in tqdm(range(len(val_dataset_for_ce))):\n",
    "    for j in range(len(val_dataset_for_ce[i]['chunks'])):\n",
    "        val_examples.append(InputExample(texts=[val_dataset_for_ce[i]['question'], val_dataset_for_ce[i]['chunks'][j]], label=val_dataset_for_ce[i]['chunk_labels'][j]))\n"
   ]
  },
  {
   "cell_type": "code",
   "execution_count": 15,
   "id": "a75431d2-669d-42e3-ba22-847a28bc6cda",
   "metadata": {},
   "outputs": [
    {
     "data": {
      "text/plain": [
       "271153"
      ]
     },
     "execution_count": 15,
     "metadata": {},
     "output_type": "execute_result"
    }
   ],
   "source": [
    "len(train_examples)"
   ]
  },
  {
   "cell_type": "code",
   "execution_count": 16,
   "id": "1e588be6-1189-4188-81cb-6ec7616cfc49",
   "metadata": {},
   "outputs": [
    {
     "data": {
      "application/vnd.jupyter.widget-view+json": {
       "model_id": "2de6623102774edfaef9d99ce8552c5b",
       "version_major": 2,
       "version_minor": 0
      },
      "text/plain": [
       "Downloading pytorch_model.bin:   0%|          | 0.00/501M [00:00<?, ?B/s]"
      ]
     },
     "metadata": {},
     "output_type": "display_data"
    },
    {
     "name": "stderr",
     "output_type": "stream",
     "text": [
      "Some weights of the model checkpoint at roberta-base were not used when initializing RobertaForSequenceClassification: ['lm_head.bias', 'roberta.pooler.dense.bias', 'lm_head.layer_norm.weight', 'roberta.pooler.dense.weight', 'lm_head.decoder.weight', 'lm_head.dense.bias', 'lm_head.dense.weight', 'lm_head.layer_norm.bias']\n",
      "- This IS expected if you are initializing RobertaForSequenceClassification from the checkpoint of a model trained on another task or with another architecture (e.g. initializing a BertForSequenceClassification model from a BertForPreTraining model).\n",
      "- This IS NOT expected if you are initializing RobertaForSequenceClassification from the checkpoint of a model that you expect to be exactly identical (initializing a BertForSequenceClassification model from a BertForSequenceClassification model).\n",
      "Some weights of RobertaForSequenceClassification were not initialized from the model checkpoint at roberta-base and are newly initialized: ['classifier.dense.weight', 'classifier.out_proj.bias', 'classifier.dense.bias', 'classifier.out_proj.weight']\n",
      "You should probably TRAIN this model on a down-stream task to be able to use it for predictions and inference.\n"
     ]
    }
   ],
   "source": [
    "cross_encoder = CrossEncoder('roberta-base', num_labels=2)"
   ]
  },
  {
   "cell_type": "code",
   "execution_count": 17,
   "id": "51e6b70f-09a6-405f-a520-24a6f83ac3f3",
   "metadata": {},
   "outputs": [],
   "source": [
    "cross_encoder_model_path = './checkpoints/ce_model_10_6_2023_roberta_squad2'"
   ]
  },
  {
   "cell_type": "code",
   "execution_count": 18,
   "id": "a18d7410-ddce-4fd9-8748-de8abc8feec7",
   "metadata": {},
   "outputs": [
    {
     "data": {
      "application/vnd.jupyter.widget-view+json": {
       "model_id": "21133c36a734488a9c7febb61f3d5583",
       "version_major": 2,
       "version_minor": 0
      },
      "text/plain": [
       "Epoch:   0%|          | 0/2 [00:00<?, ?it/s]"
      ]
     },
     "metadata": {},
     "output_type": "display_data"
    },
    {
     "data": {
      "application/vnd.jupyter.widget-view+json": {
       "model_id": "fbc6ff04e4e94a4da829e179a82c565f",
       "version_major": 2,
       "version_minor": 0
      },
      "text/plain": [
       "Iteration:   0%|          | 0/8474 [00:00<?, ?it/s]"
      ]
     },
     "metadata": {},
     "output_type": "display_data"
    },
    {
     "data": {
      "application/vnd.jupyter.widget-view+json": {
       "model_id": "4f8ec6089ed244bf836d99b87666cbe7",
       "version_major": 2,
       "version_minor": 0
      },
      "text/plain": [
       "Iteration:   0%|          | 0/8474 [00:00<?, ?it/s]"
      ]
     },
     "metadata": {},
     "output_type": "display_data"
    }
   ],
   "source": [
    "train_dataloader = DataLoader(train_examples, shuffle=True, batch_size=32)\n",
    "evaluator = CESoftmaxAccuracyEvaluator.from_input_examples(val_examples, name='val')\n",
    "warmup_steps = int(len(train_dataloader) * 0.1) # 10% of train data for warm-up\n",
    "\n",
    "cross_encoder.fit(\n",
    "    train_dataloader=train_dataloader, \n",
    "    evaluator=evaluator, \n",
    "    epochs=2, \n",
    "    warmup_steps=warmup_steps, \n",
    "    evaluation_steps=2000,\n",
    "    output_path=cross_encoder_model_path\n",
    ")"
   ]
  },
  {
   "cell_type": "code",
   "execution_count": 19,
   "id": "7473ea62-1bdc-48cd-8d50-c1fae0f6702d",
   "metadata": {},
   "outputs": [],
   "source": [
    "cross_encoder = CrossEncoder(cross_encoder_model_path)"
   ]
  },
  {
   "cell_type": "code",
   "execution_count": 20,
   "id": "4724e42a-78fa-419f-a839-fadb124d28a4",
   "metadata": {},
   "outputs": [],
   "source": [
    "def build_dataset_for_reader(examples, k_top_chunks=3):\n",
    "    # 1) calculate score for each chunk in one example\n",
    "    # 2) select top k chunks with highest score\n",
    "    # 3) concat k chunks to form a context for reader in order of their appearance in the original context\n",
    "    batch_combined_context, batch_scores, batch_answers = [], [], []\n",
    "    for i in (range(len(examples['question']))):\n",
    "        question = examples['question'][i]\n",
    "        chunks = examples['chunks'][i]\n",
    "        scores = cross_encoder.predict([[question, chunk] for chunk in chunks])\n",
    "        score_1 = np.exp(scores[:, 1]) / np.sum(np.exp(scores), axis=1)\n",
    "        top_k_indices = np.argsort(score_1)[-k_top_chunks:]\n",
    "        top_k_chunks = []        \n",
    "        for j in range(len(chunks)):\n",
    "            if j in top_k_indices:\n",
    "                top_k_chunks.append(chunks[j])\n",
    "        candidate_contexts = []\n",
    "        for chunk in top_k_chunks:\n",
    "            chunk_sentences = sent_tokenize(chunk)\n",
    "            for sentence in chunk_sentences:\n",
    "                if sentence not in candidate_contexts:\n",
    "                    candidate_contexts.append(sentence)\n",
    "        combined_context = ' '.join(candidate_contexts)\n",
    "        answer_texts = [answer for answer in examples['answers'][i]['text'] if answer in combined_context]\n",
    "        answer_starts = [combined_context.index(answer) for answer in answer_texts]\n",
    "\n",
    "        batch_combined_context.append(combined_context)\n",
    "        batch_scores.append([score_1[i] for i in range(len(chunks)) if i in top_k_indices])\n",
    "        batch_answers.append({\n",
    "            'text': answer_texts,\n",
    "            'answer_start': answer_starts\n",
    "        })\n",
    "\n",
    "    return {\n",
    "        'id': examples['id'],\n",
    "        'question': examples['question'],\n",
    "        'title': examples['title'],\n",
    "        'context': batch_combined_context,\n",
    "        'scores': batch_scores,\n",
    "        'answers': batch_answers,\n",
    "        'old_answers': examples['answers']\n",
    "    }\n"
   ]
  },
  {
   "cell_type": "code",
   "execution_count": 21,
   "id": "8613cb50-a16e-4f90-915a-833ec6a8d507",
   "metadata": {},
   "outputs": [
    {
     "data": {
      "application/vnd.jupyter.widget-view+json": {
       "model_id": "",
       "version_major": 2,
       "version_minor": 0
      },
      "text/plain": [
       "Map:   0%|          | 0/117287 [00:00<?, ? examples/s]"
      ]
     },
     "metadata": {},
     "output_type": "display_data"
    },
    {
     "data": {
      "application/vnd.jupyter.widget-view+json": {
       "model_id": "",
       "version_major": 2,
       "version_minor": 0
      },
      "text/plain": [
       "Map:   0%|          | 0/13032 [00:00<?, ? examples/s]"
      ]
     },
     "metadata": {},
     "output_type": "display_data"
    },
    {
     "data": {
      "application/vnd.jupyter.widget-view+json": {
       "model_id": "",
       "version_major": 2,
       "version_minor": 0
      },
      "text/plain": [
       "Map:   0%|          | 0/11873 [00:00<?, ? examples/s]"
      ]
     },
     "metadata": {},
     "output_type": "display_data"
    }
   ],
   "source": [
    "train_dataset_for_reader = train_dataset_for_ce.map(build_dataset_for_reader, batched=True, fn_kwargs={'k_top_chunks': 3}, remove_columns=train_dataset_for_ce.column_names)\n",
    "val_dataset_for_reader = val_dataset_for_ce.map(build_dataset_for_reader, batched=True, fn_kwargs={'k_top_chunks': 3}, remove_columns=val_dataset_for_ce.column_names)        \n",
    "test_dataset_for_reader = test_dataset_for_ce.map(build_dataset_for_reader, batched=True, fn_kwargs={'k_top_chunks': 3}, remove_columns=test_dataset_for_ce.column_names)        "
   ]
  },
  {
   "cell_type": "code",
   "execution_count": 22,
   "id": "545f2815-d4c4-41be-bfd2-59c9d90e9118",
   "metadata": {},
   "outputs": [
    {
     "data": {
      "application/vnd.jupyter.widget-view+json": {
       "model_id": "",
       "version_major": 2,
       "version_minor": 0
      },
      "text/plain": [
       "Saving the dataset (0/1 shards):   0%|          | 0/117287 [00:00<?, ? examples/s]"
      ]
     },
     "metadata": {},
     "output_type": "display_data"
    },
    {
     "data": {
      "application/vnd.jupyter.widget-view+json": {
       "model_id": "",
       "version_major": 2,
       "version_minor": 0
      },
      "text/plain": [
       "Saving the dataset (0/1 shards):   0%|          | 0/13032 [00:00<?, ? examples/s]"
      ]
     },
     "metadata": {},
     "output_type": "display_data"
    },
    {
     "data": {
      "application/vnd.jupyter.widget-view+json": {
       "model_id": "",
       "version_major": 2,
       "version_minor": 0
      },
      "text/plain": [
       "Saving the dataset (0/1 shards):   0%|          | 0/11873 [00:00<?, ? examples/s]"
      ]
     },
     "metadata": {},
     "output_type": "display_data"
    }
   ],
   "source": [
    "train_dataset_for_reader.save_to_disk('./data/train_dataset_for_reader_squad_roberta')\n",
    "val_dataset_for_reader.save_to_disk('./data/val_dataset_for_reader_squad_roberta')\n",
    "test_dataset_for_reader.save_to_disk('./data/test_dataset_for_reader_squad_roberta')"
   ]
  },
  {
   "cell_type": "code",
   "execution_count": 23,
   "id": "19b80272-0fdb-49f3-b27e-b578beb7338b",
   "metadata": {},
   "outputs": [],
   "source": [
    "train_dataset_for_reader = Dataset.load_from_disk('./data/train_dataset_for_reader_squad_roberta')\n",
    "val_dataset_for_reader = Dataset.load_from_disk('./data/val_dataset_for_reader_squad_roberta')\n",
    "test_dataset_for_reader = Dataset.load_from_disk('./data/test_dataset_for_reader_squad_roberta')"
   ]
  },
  {
   "cell_type": "code",
   "execution_count": 24,
   "id": "c5db82e8-2495-4db3-b639-811cc019848b",
   "metadata": {},
   "outputs": [],
   "source": [
    "count = 0\n",
    "def preprocess_training_examples(examples):\n",
    "    global count\n",
    "    questions = [q.strip() for q in examples[\"question\"]]\n",
    "    inputs = tokenizer(\n",
    "        questions,\n",
    "        examples[\"context\"],\n",
    "        truncation=\"only_second\",\n",
    "        return_offsets_mapping=True,\n",
    "        padding=\"max_length\",\n",
    "    )\n",
    "\n",
    "    offset_mapping = inputs.pop(\"offset_mapping\")\n",
    "    answers = examples[\"answers\"]\n",
    "    start_positions = []\n",
    "    end_positions = []\n",
    "\n",
    "    for i, offset in enumerate(offset_mapping):\n",
    "        answer = answers[i]\n",
    "        if (len(answer['answer_start'])==0):\n",
    "            count+=1\n",
    "            start_positions.append(0)\n",
    "            end_positions.append(0)\n",
    "            continue\n",
    "        start_char = answer[\"answer_start\"][0]\n",
    "        end_char = answer[\"answer_start\"][0] + len(answer[\"text\"][0])\n",
    "        sequence_ids = inputs.sequence_ids(i)\n",
    "\n",
    "        # Find the start and end of the context\n",
    "        idx = 0\n",
    "        while sequence_ids[idx] != 1:\n",
    "            idx += 1\n",
    "        context_start = idx\n",
    "        while sequence_ids[idx] == 1:\n",
    "            idx += 1\n",
    "        context_end = idx - 1\n",
    "\n",
    "        idx = context_start\n",
    "        while idx <= context_end and offset[idx][0] <= start_char:\n",
    "            idx += 1\n",
    "        start_positions.append(idx - 1)\n",
    "\n",
    "        idx = context_end\n",
    "        while idx >= context_start and offset[idx][1] >= end_char:\n",
    "            idx -= 1\n",
    "        end_positions.append(idx + 1)\n",
    "\n",
    "    inputs[\"start_positions\"] = start_positions\n",
    "    inputs[\"end_positions\"] = end_positions\n",
    "    return inputs\n",
    "\n",
    "\n",
    "def preprocess_validation_examples(examples):\n",
    "    questions = [q.strip() for q in examples[\"question\"]]\n",
    "    inputs = tokenizer(\n",
    "        questions,\n",
    "        examples[\"context\"],\n",
    "        truncation=\"only_second\",\n",
    "        return_offsets_mapping=True,\n",
    "        padding=\"max_length\",\n",
    "    )\n",
    "\n",
    "    example_ids = []\n",
    "    for i in range(len(inputs[\"input_ids\"])):\n",
    "        example_ids.append(examples[\"id\"][i])\n",
    "        sequence_ids = inputs.sequence_ids(i)\n",
    "        inputs[\"offset_mapping\"][i] = [o if sequence_ids[k] == 1 else None \\\n",
    "          for k, o in enumerate(inputs[\"offset_mapping\"][i])]\n",
    "\n",
    "    inputs[\"example_id\"] = example_ids\n",
    "    return inputs"
   ]
  },
  {
   "cell_type": "code",
   "execution_count": 25,
   "id": "7cf19a5c-9a4d-420a-bb05-2565aab354c1",
   "metadata": {},
   "outputs": [
    {
     "data": {
      "application/vnd.jupyter.widget-view+json": {
       "model_id": "",
       "version_major": 2,
       "version_minor": 0
      },
      "text/plain": [
       "Map:   0%|          | 0/117287 [00:00<?, ? examples/s]"
      ]
     },
     "metadata": {},
     "output_type": "display_data"
    },
    {
     "data": {
      "application/vnd.jupyter.widget-view+json": {
       "model_id": "",
       "version_major": 2,
       "version_minor": 0
      },
      "text/plain": [
       "Map:   0%|          | 0/13032 [00:00<?, ? examples/s]"
      ]
     },
     "metadata": {},
     "output_type": "display_data"
    },
    {
     "data": {
      "application/vnd.jupyter.widget-view+json": {
       "model_id": "",
       "version_major": 2,
       "version_minor": 0
      },
      "text/plain": [
       "Map:   0%|          | 0/11873 [00:00<?, ? examples/s]"
      ]
     },
     "metadata": {},
     "output_type": "display_data"
    }
   ],
   "source": [
    "train_dataset = train_dataset_for_reader.map(\n",
    "    preprocess_training_examples,\n",
    "    batched=True,\n",
    "    remove_columns=train_dataset_for_reader.column_names,\n",
    ")\n",
    "val_dataset = val_dataset_for_reader.map(\n",
    "    preprocess_training_examples,\n",
    "    batched=True,\n",
    "    remove_columns=val_dataset_for_reader.column_names,\n",
    ")\n",
    "test_dataset = test_dataset_for_reader.map(\n",
    "    preprocess_validation_examples,\n",
    "    batched=True,\n",
    "    remove_columns=test_dataset_for_reader.column_names,\n",
    ")"
   ]
  },
  {
   "cell_type": "code",
   "execution_count": 26,
   "id": "11f53ea3-4ecc-4c99-a6bc-cbd6a41064b0",
   "metadata": {},
   "outputs": [
    {
     "data": {
      "application/vnd.jupyter.widget-view+json": {
       "model_id": "",
       "version_major": 2,
       "version_minor": 0
      },
      "text/plain": [
       "Map:   0%|          | 0/13032 [00:00<?, ? examples/s]"
      ]
     },
     "metadata": {},
     "output_type": "display_data"
    }
   ],
   "source": [
    "val_dataset_test = val_dataset_for_reader.map(\n",
    "    preprocess_validation_examples,\n",
    "    batched=True,\n",
    "    remove_columns=val_dataset_for_reader.column_names,\n",
    ")"
   ]
  },
  {
   "cell_type": "code",
   "execution_count": 27,
   "id": "24f23490-c617-4dcf-ba8b-f785e175589b",
   "metadata": {},
   "outputs": [
    {
     "name": "stdout",
     "output_type": "stream",
     "text": [
      "{'id': '5ad255afd7d075001a428d49', 'title': 'Emotion', 'context': 'Emotions can motivate social interactions and relationships and therefore are directly related with basic physiology, particularly with the stress systems. This is important because emotions are related to the anti-stress complex, with an oxytocin-attachment system, which plays a major role in bonding. Emotional phenotype temperaments affect social connectedness and fitness in complex social systems (Kurt Kortschal 2013). These characteristics are shared with other species and taxa and are due to the effects of genes and their continuous transmission. Information that is encoded in the DNA sequences provides the blueprint for assembling proteins that make up our cells. Zygotes require genetic information from their parental germ cells, and at every speciation event, heritable traits that have enabled its ancestor to survive and reproduce successfully are passed down along with new traits that could be potentially beneficial to the offspring. In the five million years since the linages leading to modern humans and chimpanzees split, only about 1.2% of their genetic material has been modified. This suggests that everything that separates us from chimpanzees must be encoded in that very small amount of DNA, including our behaviors. Students that study animal behaviors have only identified intraspecific examples of gene-dependent behavioral phenotypes. In voles (Microtus spp.) minor genetic differences have been identified in a vasopressin receptor gene that corresponds to major species differences in social organization and the mating system (Hammock & Young 2005). Another potential example with behavioral differences is the FOCP2 gene, which is involved in neural circuitry handling speech and language (Vargha-Khadem et al. 2005). Its present form in humans differed from that of the chimpanzees by only a few mutations and has been present for about 200,000 years, coinciding with the beginning of modern humans (Enard et al. 2002). Speech, language, and social organization are all part of the basis for emotions.', 'question': ' How many hundred years ago did the evolution of chimpanzees and humans diverge?', 'answers': {'text': [], 'answer_start': []}}\n",
      "0\n"
     ]
    }
   ],
   "source": [
    "i = 10\n",
    "print(train_origin[i])\n",
    "print(train_dataset[i]['start_positions'])"
   ]
  },
  {
   "cell_type": "code",
   "execution_count": 28,
   "id": "43f1ca04-964d-4094-92c9-7eaa5b23b33c",
   "metadata": {},
   "outputs": [],
   "source": [
    "class CustomModelForQuestionAnswering(nn.Module):\n",
    "    def __init__(self, model_checkpoint):\n",
    "        super().__init__()\n",
    "        self.model = AutoModel.from_pretrained(model_checkpoint, add_pooling_layer=False)\n",
    "        self.qa_outputs = nn.Linear(self.model.config.hidden_size, 2)\n",
    "        self.W1 = nn.Linear(self.model.config.hidden_size, 1)\n",
    "        self.W2 = nn.Linear(self.model.config.hidden_size, self.model.config.hidden_size)\n",
    "\n",
    "    def forward(self, input_ids, attention_mask, start_positions=None, end_positions=None):\n",
    "        outputs = self.model(input_ids, attention_mask=attention_mask)\n",
    "        last_hidden_state = outputs.last_hidden_state\n",
    "        cls_token = last_hidden_state[:, 0, :]\n",
    "\n",
    "        answerable_logits = self.W1(torch.tanh(self.W2(cls_token)))\n",
    "        start_logits, end_logits = self.qa_outputs(last_hidden_state).split(1, dim=-1)\n",
    "        start_logits = start_logits.squeeze(-1)\n",
    "        end_logits = end_logits.squeeze(-1)\n",
    "        \n",
    "        # loss = lost_answerable + loss_start + loss_end\n",
    "        loss, loss_answerable, loss_start, loss_end = None, None, None, None\n",
    "        if start_positions is not None and end_positions is not None:\n",
    "            answerables = ((start_positions != 0) & (end_positions != 0)).float().unsqueeze(-1)\n",
    "            loss_answerable = F.binary_cross_entropy_with_logits(answerable_logits, answerables)\n",
    "            loss_start = F.cross_entropy(start_logits, start_positions)\n",
    "            loss_end = F.cross_entropy(end_logits, end_positions)\n",
    "            loss = loss_answerable + loss_start + loss_end \n",
    "\n",
    "        return {\n",
    "            'loss': loss,\n",
    "            'answerable_logits': answerable_logits.squeeze(-1),\n",
    "            'start_logits': start_logits,\n",
    "            'end_logits': end_logits,\n",
    "            'loss_answerable': loss_answerable,\n",
    "            'loss_start': loss_start,\n",
    "            'loss_end': loss_end\n",
    "        }"
   ]
  },
  {
   "cell_type": "code",
   "execution_count": 29,
   "id": "6e6d88e1-cf68-4dfe-a2c4-fe3756b412a8",
   "metadata": {},
   "outputs": [
    {
     "name": "stderr",
     "output_type": "stream",
     "text": [
      "Some weights of the model checkpoint at roberta-base were not used when initializing RobertaModel: ['lm_head.bias', 'roberta.pooler.dense.bias', 'lm_head.layer_norm.weight', 'roberta.pooler.dense.weight', 'lm_head.decoder.weight', 'lm_head.dense.bias', 'lm_head.dense.weight', 'lm_head.layer_norm.bias']\n",
      "- This IS expected if you are initializing RobertaModel from the checkpoint of a model trained on another task or with another architecture (e.g. initializing a BertForSequenceClassification model from a BertForPreTraining model).\n",
      "- This IS NOT expected if you are initializing RobertaModel from the checkpoint of a model that you expect to be exactly identical (initializing a BertForSequenceClassification model from a BertForSequenceClassification model).\n"
     ]
    }
   ],
   "source": [
    "model_checkpoint = 'roberta-base'\n",
    "model = CustomModelForQuestionAnswering(model_checkpoint).to(device)\n",
    "tokenizer = AutoTokenizer.from_pretrained(model_checkpoint)"
   ]
  },
  {
   "cell_type": "code",
   "execution_count": 30,
   "id": "a6e15ef7-fac0-4313-9542-800dbbff0d76",
   "metadata": {},
   "outputs": [],
   "source": [
    "def train(model, train_dataset, val_dataset, epochs=2, batch_size=24, lr=3e-5, train_eval_steps=1000, test_eval_steps=1000, accumulate_grad_steps=3, save_steps=2500):\n",
    "    optimizer = torch.optim.AdamW(model.parameters(), lr=lr, weight_decay=0.01)\n",
    "    train_dataset.set_format(type='torch')\n",
    "    val_dataset.set_format(type='torch')\n",
    "\n",
    "    step = 0\n",
    "    for epoch in tqdm(range(epochs)):\n",
    "        train_dataloader = DataLoader(train_dataset, batch_size=batch_size, shuffle=True)\n",
    "        model.train()\n",
    "        train_loss, train_loss_answerable, train_loss_start, train_loss_end = [], [], [], []\n",
    "        for batch in tqdm(train_dataloader):\n",
    "            step += 1\n",
    "\n",
    "            inputs = {k: v.to(device) for k, v in batch.items()}\n",
    "            outputs = model(**inputs)\n",
    "\n",
    "            loss = outputs['loss']\n",
    "            loss.backward()\n",
    "\n",
    "            train_loss.append(loss.item())\n",
    "            train_loss_answerable.append(outputs['loss_answerable'].item())\n",
    "            train_loss_start.append(outputs['loss_start'].item())\n",
    "            train_loss_end.append(outputs['loss_end'].item())\n",
    "            \n",
    "            if step % accumulate_grad_steps == 0:\n",
    "                optimizer.step()\n",
    "                optimizer.zero_grad()\n",
    "\n",
    "            if step % train_eval_steps == 0:\n",
    "                print(f\"Epoch {epoch+1}/{epochs} | Step {step} | Train loss: {np.mean(train_loss):.3f} | Train loss answerable: {np.mean(train_loss_answerable):.3f} | Train loss start: {np.mean(train_loss_start):.3f} | Train loss end: {np.mean(train_loss_end):.3f}\")\n",
    "                train_loss, train_loss_answerable, train_loss_start, train_loss_end = [], [], [], []\n",
    "\n",
    "            if step % test_eval_steps == 0:\n",
    "                model.eval()\n",
    "                val_dataloader = DataLoader(val_dataset, batch_size=batch_size, shuffle=True)\n",
    "                val_loss, val_loss_answerable, val_loss_start, val_loss_end = [], [], [], []\n",
    "\n",
    "                with torch.no_grad():\n",
    "                    for batch in tqdm(val_dataloader):\n",
    "                        inputs = {k: v.to(device) for k, v in batch.items()}\n",
    "                        outputs = model(**inputs)\n",
    "                        loss = outputs['loss']\n",
    "\n",
    "                        val_loss.append(loss.item())\n",
    "                        val_loss_answerable.append(outputs['loss_answerable'].item())\n",
    "                        val_loss_start.append(outputs['loss_start'].item())\n",
    "                        val_loss_end.append(outputs['loss_end'].item())\n",
    "                        \n",
    "                print(f\"Epoch {epoch+1}/{epochs} | Step {step} | Val loss: {np.mean(val_loss):.3f} | Val loss answerable: {np.mean(val_loss_answerable):.3f} | Val loss start: {np.mean(val_loss_start):.3f} | Val loss end: {np.mean(val_loss_end):.3f}\")\n",
    "                model.train()\n",
    "\n",
    "            if save_steps and step % save_steps == 0:\n",
    "                torch.save(model, './checkpoint_reader_xlmr_squad2_app2/model_step_{}.pth'.format(step))\n",
    "\n",
    "    train_dataset.reset_format()\n",
    "    val_dataset.reset_format()\n",
    "    torch.save(model, './checkpoint_reader_xlmr_squad2_app2/final.pth'.format(step))"
   ]
  },
  {
   "cell_type": "code",
   "execution_count": 31,
   "id": "a4d55c60-909d-4f6f-bc19-eb8cd6226afb",
   "metadata": {},
   "outputs": [
    {
     "data": {
      "application/vnd.jupyter.widget-view+json": {
       "model_id": "89764efb06244d04adbe8f6651d65f81",
       "version_major": 2,
       "version_minor": 0
      },
      "text/plain": [
       "  0%|          | 0/3 [00:00<?, ?it/s]"
      ]
     },
     "metadata": {},
     "output_type": "display_data"
    },
    {
     "data": {
      "application/vnd.jupyter.widget-view+json": {
       "model_id": "97420d58259541e489125b3f63b0e3f3",
       "version_major": 2,
       "version_minor": 0
      },
      "text/plain": [
       "  0%|          | 0/3666 [00:00<?, ?it/s]"
      ]
     },
     "metadata": {},
     "output_type": "display_data"
    },
    {
     "name": "stdout",
     "output_type": "stream",
     "text": [
      "Epoch 1/3 | Step 1000 | Train loss: 3.838 | Train loss answerable: 0.517 | Train loss start: 1.691 | Train loss end: 1.630\n"
     ]
    },
    {
     "data": {
      "application/vnd.jupyter.widget-view+json": {
       "model_id": "9e94189a162941379e61350c2e12bb33",
       "version_major": 2,
       "version_minor": 0
      },
      "text/plain": [
       "  0%|          | 0/408 [00:00<?, ?it/s]"
      ]
     },
     "metadata": {},
     "output_type": "display_data"
    },
    {
     "name": "stdout",
     "output_type": "stream",
     "text": [
      "Epoch 1/3 | Step 1000 | Val loss: 2.684 | Val loss answerable: 0.414 | Val loss start: 1.167 | Val loss end: 1.102\n",
      "Epoch 1/3 | Step 2000 | Train loss: 2.599 | Train loss answerable: 0.388 | Train loss start: 1.141 | Train loss end: 1.070\n"
     ]
    },
    {
     "data": {
      "application/vnd.jupyter.widget-view+json": {
       "model_id": "feb26b9edee84ebebf937a0159ecf8aa",
       "version_major": 2,
       "version_minor": 0
      },
      "text/plain": [
       "  0%|          | 0/408 [00:00<?, ?it/s]"
      ]
     },
     "metadata": {},
     "output_type": "display_data"
    },
    {
     "name": "stdout",
     "output_type": "stream",
     "text": [
      "Epoch 1/3 | Step 2000 | Val loss: 2.279 | Val loss answerable: 0.336 | Val loss start: 1.003 | Val loss end: 0.940\n",
      "Epoch 1/3 | Step 3000 | Train loss: 2.334 | Train loss answerable: 0.335 | Train loss start: 1.035 | Train loss end: 0.964\n"
     ]
    },
    {
     "data": {
      "application/vnd.jupyter.widget-view+json": {
       "model_id": "adf94c5926f743c6b1b91aeec77046b2",
       "version_major": 2,
       "version_minor": 0
      },
      "text/plain": [
       "  0%|          | 0/408 [00:00<?, ?it/s]"
      ]
     },
     "metadata": {},
     "output_type": "display_data"
    },
    {
     "name": "stdout",
     "output_type": "stream",
     "text": [
      "Epoch 1/3 | Step 3000 | Val loss: 2.173 | Val loss answerable: 0.308 | Val loss start: 0.968 | Val loss end: 0.896\n"
     ]
    },
    {
     "data": {
      "application/vnd.jupyter.widget-view+json": {
       "model_id": "efcde80dcd814c0eacf1111a976df766",
       "version_major": 2,
       "version_minor": 0
      },
      "text/plain": [
       "  0%|          | 0/3666 [00:00<?, ?it/s]"
      ]
     },
     "metadata": {},
     "output_type": "display_data"
    },
    {
     "name": "stdout",
     "output_type": "stream",
     "text": [
      "Epoch 2/3 | Step 4000 | Train loss: 1.805 | Train loss answerable: 0.245 | Train loss start: 0.818 | Train loss end: 0.742\n"
     ]
    },
    {
     "data": {
      "application/vnd.jupyter.widget-view+json": {
       "model_id": "fb925742f3ea48bc89177f7b74f686d8",
       "version_major": 2,
       "version_minor": 0
      },
      "text/plain": [
       "  0%|          | 0/408 [00:00<?, ?it/s]"
      ]
     },
     "metadata": {},
     "output_type": "display_data"
    },
    {
     "name": "stdout",
     "output_type": "stream",
     "text": [
      "Epoch 2/3 | Step 4000 | Val loss: 2.176 | Val loss answerable: 0.334 | Val loss start: 0.951 | Val loss end: 0.891\n",
      "Epoch 2/3 | Step 5000 | Train loss: 1.813 | Train loss answerable: 0.238 | Train loss start: 0.820 | Train loss end: 0.755\n"
     ]
    },
    {
     "data": {
      "application/vnd.jupyter.widget-view+json": {
       "model_id": "981d34a080ec47e390098132e4fa8752",
       "version_major": 2,
       "version_minor": 0
      },
      "text/plain": [
       "  0%|          | 0/408 [00:00<?, ?it/s]"
      ]
     },
     "metadata": {},
     "output_type": "display_data"
    },
    {
     "name": "stdout",
     "output_type": "stream",
     "text": [
      "Epoch 2/3 | Step 6000 | Train loss: 1.771 | Train loss answerable: 0.234 | Train loss start: 0.796 | Train loss end: 0.741\n"
     ]
    },
    {
     "data": {
      "application/vnd.jupyter.widget-view+json": {
       "model_id": "05d38541c4594dafaf8dbbd82d2ded88",
       "version_major": 2,
       "version_minor": 0
      },
      "text/plain": [
       "  0%|          | 0/408 [00:00<?, ?it/s]"
      ]
     },
     "metadata": {},
     "output_type": "display_data"
    },
    {
     "name": "stdout",
     "output_type": "stream",
     "text": [
      "Epoch 2/3 | Step 6000 | Val loss: 1.909 | Val loss answerable: 0.255 | Val loss start: 0.863 | Val loss end: 0.791\n"
     ]
    },
    {
     "name": "stderr",
     "output_type": "stream",
     "text": [
      "IOPub message rate exceeded.\n",
      "The Jupyter server will temporarily stop sending output\n",
      "to the client in order to avoid crashing it.\n",
      "To change this limit, set the config variable\n",
      "`--ServerApp.iopub_msg_rate_limit`.\n",
      "\n",
      "Current values:\n",
      "ServerApp.iopub_msg_rate_limit=1000.0 (msgs/sec)\n",
      "ServerApp.rate_limit_window=3.0 (secs)\n",
      "\n"
     ]
    },
    {
     "name": "stdout",
     "output_type": "stream",
     "text": [
      "Epoch 3/3 | Step 10000 | Train loss: 1.390 | Train loss answerable: 0.162 | Train loss start: 0.641 | Train loss end: 0.587\n"
     ]
    },
    {
     "data": {
      "application/vnd.jupyter.widget-view+json": {
       "model_id": "e5572a72504c4644af0faf6771f36c99",
       "version_major": 2,
       "version_minor": 0
      },
      "text/plain": [
       "  0%|          | 0/408 [00:00<?, ?it/s]"
      ]
     },
     "metadata": {},
     "output_type": "display_data"
    },
    {
     "name": "stdout",
     "output_type": "stream",
     "text": [
      "Epoch 3/3 | Step 10000 | Val loss: 1.878 | Val loss answerable: 0.239 | Val loss start: 0.855 | Val loss end: 0.784\n"
     ]
    },
    {
     "name": "stderr",
     "output_type": "stream",
     "text": [
      "IOPub message rate exceeded.\n",
      "The Jupyter server will temporarily stop sending output\n",
      "to the client in order to avoid crashing it.\n",
      "To change this limit, set the config variable\n",
      "`--ServerApp.iopub_msg_rate_limit`.\n",
      "\n",
      "Current values:\n",
      "ServerApp.iopub_msg_rate_limit=1000.0 (msgs/sec)\n",
      "ServerApp.rate_limit_window=3.0 (secs)\n",
      "\n"
     ]
    }
   ],
   "source": [
    "train(\n",
    "    model=model,\n",
    "    train_dataset=train_dataset,\n",
    "    val_dataset=val_dataset,\n",
    "    epochs=3,\n",
    "    batch_size=32,\n",
    "    lr=3e-5,\n",
    "    train_eval_steps=1000,\n",
    "    test_eval_steps=1000,\n",
    "    accumulate_grad_steps=2,\n",
    "    save_steps=2500\n",
    ")"
   ]
  },
  {
   "cell_type": "code",
   "execution_count": 33,
   "id": "ff66a8fd-4000-47cc-b795-9a1bb77ab7aa",
   "metadata": {},
   "outputs": [],
   "source": [
    "from collections import defaultdict\n",
    "import evaluate\n",
    "from tqdm.auto import tqdm\n",
    "metric = evaluate.load(\"squad_v2\")\n",
    "from tqdm.auto import tqdm\n",
    "def compute_metrics(\n",
    "    start_logits,\n",
    "    end_logits,\n",
    "    answerable_logits,\n",
    "    features,\n",
    "    examples,\n",
    "    metric=metric,\n",
    "    n_best=5,\n",
    "    max_answer_length=100,\n",
    "    show_result=True,\n",
    "    threshold=0.7,\n",
    "):\n",
    "    example_to_features = defaultdict(list)\n",
    "    for idx, feature in enumerate(features):\n",
    "        example_to_features[feature[\"example_id\"]].append(idx)\n",
    "\n",
    "    predicted_answers = []\n",
    "    for example in tqdm(examples):\n",
    "        example_id = example[\"id\"]\n",
    "        context = example[\"context\"]\n",
    "        answers = []\n",
    "\n",
    "        # Loop through all features associated with that example\n",
    "        for feature_index in example_to_features[example_id]:\n",
    "            answerable_logit = answerable_logits[feature_index]\n",
    "            prob = torch.sigmoid(torch.tensor(answerable_logit))\n",
    "            if prob < threshold:\n",
    "                continue\n",
    "\n",
    "            candidate_answers = []\n",
    "            start_logit = start_logits[feature_index]\n",
    "            end_logit = end_logits[feature_index]\n",
    "            offsets = features[feature_index][\"offset_mapping\"]\n",
    "            start_indexes = np.argsort(start_logit)[-1 : -n_best - 1 : -1].tolist()\n",
    "            end_indexes = np.argsort(end_logit)[-1 : -n_best - 1 : -1].tolist()\n",
    "            for start_index in start_indexes:\n",
    "                for end_index in end_indexes:\n",
    "                    # Skip candidate_answers that are not fully in the context\n",
    "                    if offsets[start_index] is None or offsets[end_index] is None:\n",
    "                        continue\n",
    "                    # Skip candidate_answers with a length that is either < 0 or > max_answer_length\n",
    "                    if (\n",
    "                        end_index < start_index\n",
    "                        or end_index - start_index + 1 > max_answer_length\n",
    "                    ):\n",
    "                        continue\n",
    "                    answer = {\n",
    "                        \"text\": context[\n",
    "                            offsets[start_index][0] : offsets[end_index][1]\n",
    "                        ],\n",
    "                        \"logit_score\": start_logit[start_index] + end_logit[end_index],\n",
    "                        'no_answer_probability': 1 - prob.item(),\n",
    "\n",
    "                    }\n",
    "                    candidate_answers.append(answer)\n",
    "\n",
    "            # Add the best candidate_answers with a score > zero to the final list\n",
    "            candidate_answers = sorted(\n",
    "                candidate_answers, key=lambda x: x[\"logit_score\"], reverse=True\n",
    "            )\n",
    "            if len(candidate_answers) > 0:\n",
    "                answers.append(candidate_answers[0])\n",
    "        \n",
    "        if len(answers) == 0:\n",
    "            predicted_answers.append({\"id\": example_id, \"prediction_text\": \"\", \"no_answer_probability\":1.0})\n",
    "        else:\n",
    "            best_answer = max(answers, key=lambda x: x[\"logit_score\"])\n",
    "            predicted_answers.append(\n",
    "                {\"id\": example_id, \"prediction_text\": best_answer[\"text\"], \"no_answer_probability\": 0.0}\n",
    "            )\n",
    "\n",
    "    theoretical_answers = [\n",
    "        {\n",
    "            \"id\": ex[\"id\"],\n",
    "            \"answers\": {\n",
    "                \"text\": ex[\"answers\"][\"text\"],\n",
    "                \"answer_start\": ex[\"answers\"][\"answer_start\"],\n",
    "            },\n",
    "        }\n",
    "        for ex in examples\n",
    "    ]\n",
    "    if show_result:\n",
    "        i = 0\n",
    "        for pred, theo in zip(predicted_answers, theoretical_answers):\n",
    "            i += 1\n",
    "            if i == 100:\n",
    "                break\n",
    "            print(pred['prediction_text'])\n",
    "            print(theo['answers']['text'])\n",
    "            print('----' * 30)\n",
    "    return metric.compute(predictions=predicted_answers, references=theoretical_answers)\n",
    "\n",
    "def compute_answerable_metrics(answerable_logits, examples):\n",
    "    from sklearn.metrics import classification_report\n",
    "    predicted_answers = answerable_logits > 0\n",
    "    predicted_answers = predicted_answers.astype(int).tolist()\n",
    "    actual_answers = (np.array(examples['start_positions']) != 0) & (np.array(examples['end_positions']) != 0)\n",
    "    actual_answers = actual_answers.astype(int).tolist()\n",
    "    print(classification_report(actual_answers, predicted_answers))\n",
    "\n",
    "def get_predictions(model, dataset, batch_size=64):\n",
    "    dataset.set_format(type='torch', columns=['input_ids', 'attention_mask'])\n",
    "    dataloader = DataLoader(dataset, batch_size=batch_size, shuffle=False)\n",
    "\n",
    "    all_start_logits = []\n",
    "    all_end_logits = []\n",
    "    all_answerable_logits = []\n",
    "    \n",
    "    model.eval()\n",
    "    with torch.no_grad():\n",
    "        for batch in tqdm(dataloader):\n",
    "            inputs = {k: v.to(device) for k, v in batch.items()}\n",
    "            outputs = model(**inputs, start_positions=None, end_positions=None)\n",
    "            all_start_logits.append(outputs['start_logits'].cpu())\n",
    "            all_end_logits.append(outputs['end_logits'].cpu())\n",
    "            all_answerable_logits.append(outputs['answerable_logits'].cpu())\n",
    "    all_start_logits = torch.cat(all_start_logits, dim=0)\n",
    "    all_end_logits = torch.cat(all_end_logits, dim=0)\n",
    "    all_answerable_logits = torch.cat(all_answerable_logits, dim=0)\n",
    "    dataset.reset_format()\n",
    "    return {\n",
    "        'start_logits': all_start_logits.cpu().numpy(),\n",
    "        'end_logits': all_end_logits.cpu().numpy(),\n",
    "        'answerable_logits': all_answerable_logits.cpu().numpy(),\n",
    "    }\n",
    "\n",
    "def show_threshold_vs_score(thresholds, exacts, f1s):\n",
    "    plt.figure(figsize=(10, 5))\n",
    "    plt.plot(thresholds, exacts, label='exact')\n",
    "    plt.plot(thresholds, f1s, label='f1')\n",
    "    plt.xlabel('Threshold')\n",
    "    plt.ylabel('Score')\n",
    "    plt.legend()\n",
    "    plt.show()"
   ]
  },
  {
   "cell_type": "code",
   "execution_count": 34,
   "id": "b89047de-5537-41ab-81ba-80c684dbeeda",
   "metadata": {},
   "outputs": [],
   "source": [
    "model = torch.load('checkpoint_reader_xlmr_squad2_app2/model_step_7500.pth')"
   ]
  },
  {
   "cell_type": "code",
   "execution_count": 35,
   "id": "98e09b7f-f6c7-41d7-8441-833c85552130",
   "metadata": {},
   "outputs": [
    {
     "data": {
      "application/vnd.jupyter.widget-view+json": {
       "model_id": "8311485da16d451dbdc495500b34a4d4",
       "version_major": 2,
       "version_minor": 0
      },
      "text/plain": [
       "  0%|          | 0/204 [00:00<?, ?it/s]"
      ]
     },
     "metadata": {},
     "output_type": "display_data"
    }
   ],
   "source": [
    "predictions = get_predictions(model, val_dataset_test, batch_size=64)\n",
    "val_start_logits, val_end_logits, val_answerable_logits = predictions['start_logits'], predictions['end_logits'], predictions['answerable_logits']"
   ]
  },
  {
   "cell_type": "code",
   "execution_count": 36,
   "id": "d662166c-4b4f-4219-938e-8f5a767b844d",
   "metadata": {},
   "outputs": [
    {
     "data": {
      "application/vnd.jupyter.widget-view+json": {
       "model_id": "4b24302e81a84f8cb494ff8dc56783eb",
       "version_major": 2,
       "version_minor": 0
      },
      "text/plain": [
       "  0%|          | 0/16 [00:00<?, ?it/s]"
      ]
     },
     "metadata": {},
     "output_type": "display_data"
    },
    {
     "data": {
      "application/vnd.jupyter.widget-view+json": {
       "model_id": "5d0b7578290243d0b0c2ace26822b000",
       "version_major": 2,
       "version_minor": 0
      },
      "text/plain": [
       "  0%|          | 0/13032 [00:00<?, ?it/s]"
      ]
     },
     "metadata": {},
     "output_type": "display_data"
    },
    {
     "data": {
      "application/vnd.jupyter.widget-view+json": {
       "model_id": "392ca5cfd6254ac8a7c5a5bcc0ef0353",
       "version_major": 2,
       "version_minor": 0
      },
      "text/plain": [
       "  0%|          | 0/13032 [00:00<?, ?it/s]"
      ]
     },
     "metadata": {},
     "output_type": "display_data"
    },
    {
     "data": {
      "application/vnd.jupyter.widget-view+json": {
       "model_id": "b85a507457234602b87130a63e42ba99",
       "version_major": 2,
       "version_minor": 0
      },
      "text/plain": [
       "  0%|          | 0/13032 [00:00<?, ?it/s]"
      ]
     },
     "metadata": {},
     "output_type": "display_data"
    },
    {
     "data": {
      "application/vnd.jupyter.widget-view+json": {
       "model_id": "a76596c303a34655beab2db576f67538",
       "version_major": 2,
       "version_minor": 0
      },
      "text/plain": [
       "  0%|          | 0/13032 [00:00<?, ?it/s]"
      ]
     },
     "metadata": {},
     "output_type": "display_data"
    },
    {
     "data": {
      "application/vnd.jupyter.widget-view+json": {
       "model_id": "1ed92bd02efb46e3aedb949b4f46422e",
       "version_major": 2,
       "version_minor": 0
      },
      "text/plain": [
       "  0%|          | 0/13032 [00:00<?, ?it/s]"
      ]
     },
     "metadata": {},
     "output_type": "display_data"
    },
    {
     "data": {
      "application/vnd.jupyter.widget-view+json": {
       "model_id": "f1ca8f7d0d8c480097cb03294d972d50",
       "version_major": 2,
       "version_minor": 0
      },
      "text/plain": [
       "  0%|          | 0/13032 [00:00<?, ?it/s]"
      ]
     },
     "metadata": {},
     "output_type": "display_data"
    },
    {
     "data": {
      "application/vnd.jupyter.widget-view+json": {
       "model_id": "014eae2f2d384ad8b264aba3acf55a52",
       "version_major": 2,
       "version_minor": 0
      },
      "text/plain": [
       "  0%|          | 0/13032 [00:00<?, ?it/s]"
      ]
     },
     "metadata": {},
     "output_type": "display_data"
    },
    {
     "data": {
      "application/vnd.jupyter.widget-view+json": {
       "model_id": "2447669f49f44b93bf2f1acf99fd66c8",
       "version_major": 2,
       "version_minor": 0
      },
      "text/plain": [
       "  0%|          | 0/13032 [00:00<?, ?it/s]"
      ]
     },
     "metadata": {},
     "output_type": "display_data"
    },
    {
     "data": {
      "application/vnd.jupyter.widget-view+json": {
       "model_id": "5119c1f4bb674f3e9da9284be7b3d060",
       "version_major": 2,
       "version_minor": 0
      },
      "text/plain": [
       "  0%|          | 0/13032 [00:00<?, ?it/s]"
      ]
     },
     "metadata": {},
     "output_type": "display_data"
    },
    {
     "data": {
      "application/vnd.jupyter.widget-view+json": {
       "model_id": "750072e8acd54f35995ace51ef29788d",
       "version_major": 2,
       "version_minor": 0
      },
      "text/plain": [
       "  0%|          | 0/13032 [00:00<?, ?it/s]"
      ]
     },
     "metadata": {},
     "output_type": "display_data"
    },
    {
     "data": {
      "application/vnd.jupyter.widget-view+json": {
       "model_id": "e705a35dade5481cb8fc092bb0a512d3",
       "version_major": 2,
       "version_minor": 0
      },
      "text/plain": [
       "  0%|          | 0/13032 [00:00<?, ?it/s]"
      ]
     },
     "metadata": {},
     "output_type": "display_data"
    },
    {
     "data": {
      "application/vnd.jupyter.widget-view+json": {
       "model_id": "19c020d094604dcc8f4d96ae41eaac9d",
       "version_major": 2,
       "version_minor": 0
      },
      "text/plain": [
       "  0%|          | 0/13032 [00:00<?, ?it/s]"
      ]
     },
     "metadata": {},
     "output_type": "display_data"
    },
    {
     "data": {
      "application/vnd.jupyter.widget-view+json": {
       "model_id": "6cd967ceff4a4d90ba3340a0f9b0c382",
       "version_major": 2,
       "version_minor": 0
      },
      "text/plain": [
       "  0%|          | 0/13032 [00:00<?, ?it/s]"
      ]
     },
     "metadata": {},
     "output_type": "display_data"
    },
    {
     "data": {
      "application/vnd.jupyter.widget-view+json": {
       "model_id": "ec84431a7d664a76bb2539cfe40de005",
       "version_major": 2,
       "version_minor": 0
      },
      "text/plain": [
       "  0%|          | 0/13032 [00:00<?, ?it/s]"
      ]
     },
     "metadata": {},
     "output_type": "display_data"
    },
    {
     "data": {
      "application/vnd.jupyter.widget-view+json": {
       "model_id": "acb296d0112b4efd92c8d9e7cf48db98",
       "version_major": 2,
       "version_minor": 0
      },
      "text/plain": [
       "  0%|          | 0/13032 [00:00<?, ?it/s]"
      ]
     },
     "metadata": {},
     "output_type": "display_data"
    },
    {
     "data": {
      "application/vnd.jupyter.widget-view+json": {
       "model_id": "4f54fcbdf05448e8bfb978a7cf386960",
       "version_major": 2,
       "version_minor": 0
      },
      "text/plain": [
       "  0%|          | 0/13032 [00:00<?, ?it/s]"
      ]
     },
     "metadata": {},
     "output_type": "display_data"
    }
   ],
   "source": [
    "thresholds = 0.05 * np.arange(4,20,1)\n",
    "metrics = []\n",
    "for threshold in tqdm(thresholds):\n",
    "    metrics.append(compute_metrics(val_start_logits, val_end_logits, val_answerable_logits, val_dataset_test, val_dataset_for_reader, threshold=threshold, show_result=False))"
   ]
  },
  {
   "cell_type": "code",
   "execution_count": 37,
   "id": "f78a62a7-759a-4709-bd14-d8c04d9f75a3",
   "metadata": {},
   "outputs": [
    {
     "data": {
      "image/png": "[encoded data removed]",
      "text/plain": [
       "<Figure size 1000x500 with 1 Axes>"
      ]
     },
     "metadata": {},
     "output_type": "display_data"
    }
   ],
   "source": [
    "exacts = [m['exact'] for m in metrics]\n",
    "f1s = [m['f1'] for m in metrics]\n",
    "show_threshold_vs_score(thresholds, exacts, f1s)"
   ]
  },
  {
   "cell_type": "code",
   "execution_count": 38,
   "id": "25a35944-41c2-434e-a55e-9c74eb5d33cd",
   "metadata": {},
   "outputs": [
    {
     "data": {
      "application/vnd.jupyter.widget-view+json": {
       "model_id": "006f4cd9775f4b599ed130fe4866f307",
       "version_major": 2,
       "version_minor": 0
      },
      "text/plain": [
       "  0%|          | 0/186 [00:00<?, ?it/s]"
      ]
     },
     "metadata": {},
     "output_type": "display_data"
    }
   ],
   "source": [
    "predictions = get_predictions(model, test_dataset, batch_size=64)\n",
    "start_logits, end_logits, answerable_logits = predictions['start_logits'], predictions['end_logits'], predictions['answerable_logits']"
   ]
  },
  {
   "cell_type": "code",
   "execution_count": 46,
   "id": "1a7e991a-f3a5-48d8-9cda-38f7d28adf8c",
   "metadata": {},
   "outputs": [
    {
     "data": {
      "application/vnd.jupyter.widget-view+json": {
       "model_id": "396edaa6ac7244988be56dece64ebf60",
       "version_major": 2,
       "version_minor": 0
      },
      "text/plain": [
       "  0%|          | 0/11873 [00:00<?, ?it/s]"
      ]
     },
     "metadata": {},
     "output_type": "display_data"
    },
    {
     "data": {
      "text/plain": [
       "{'exact': 78.80064010780762,\n",
       " 'f1': 81.91452813057533,\n",
       " 'total': 11873,\n",
       " 'HasAns_exact': 74.2828214647317,\n",
       " 'HasAns_f1': 80.52163221301399,\n",
       " 'HasAns_total': 5926,\n",
       " 'NoAns_exact': 83.30250546494031,\n",
       " 'NoAns_f1': 83.30250546494031,\n",
       " 'NoAns_total': 5947,\n",
       " 'best_exact': 78.80064010780762,\n",
       " 'best_exact_thresh': 0.0,\n",
       " 'best_f1': 81.91452813057515,\n",
       " 'best_f1_thresh': 0.0}"
      ]
     },
     "execution_count": 46,
     "metadata": {},
     "output_type": "execute_result"
    }
   ],
   "source": [
    "compute_metrics(start_logits, end_logits, answerable_logits, test_dataset, test_dataset_for_reader, threshold=0.4, show_result=False)"
   ]
  },
  {
   "cell_type": "code",
   "execution_count": null,
   "id": "58a53dac-4a44-47a0-b349-0e9634de063f",
   "metadata": {},
   "outputs": [],
   "source": []
  }
 ],
 "metadata": {
  "environment": {
   "kernel": "python3",
   "name": "pytorch-gpu.1-13.m108",
   "type": "gcloud",
   "uri": "gcr.io/deeplearning-platform-release/pytorch-gpu.1-13:m108"
  },
  "kernelspec": {
   "display_name": "Python 3",
   "language": "python",
   "name": "python3"
  },
  "language_info": {
   "codemirror_mode": {
    "name": "ipython",
    "version": 3
   },
   "file_extension": ".py",
   "mimetype": "text/x-python",
   "name": "python",
   "nbconvert_exporter": "python",
   "pygments_lexer": "ipython3",
   "version": "3.10.10"
  }
 },
 "nbformat": 4,
 "nbformat_minor": 5
}
